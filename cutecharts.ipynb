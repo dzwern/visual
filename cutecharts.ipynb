{
 "cells": [
  {
   "cell_type": "code",
   "execution_count": 3,
   "metadata": {},
   "outputs": [],
   "source": [
    "# 导入模块\n",
    "from cutecharts.charts import Bar\n",
    "from cutecharts.components import Page\n",
    "from cutecharts.faker import Faker"
   ]
  },
  {
   "cell_type": "code",
   "execution_count": 11,
   "metadata": {},
   "outputs": [
    {
     "data": {
      "text/html": [
       "\n",
       "<script>\n",
       "    require.config({\n",
       "        paths: {\n",
       "            'chartXkcd':'https://cdn.jsdelivr.net/npm/chart.xkcd@1.1/dist/chart.xkcd.min'\n",
       "        }\n",
       "    });\n",
       "</script>\n",
       "\n",
       "<div id=\"144861a507c5416094a40aca9e5e7636\" class=\"chart-container\" style=\"width: 800px\">\n",
       "        <svg id=\"chart_144861a507c5416094a40aca9e5e7636\"></svg>\n",
       "    </div>\n",
       "    <script>\n",
       "        require(['chartXkcd'], function(chartXkcd) {\n",
       "            const svg_144861a507c5416094a40aca9e5e7636 = document.querySelector('#chart_144861a507c5416094a40aca9e5e7636')\n",
       "            const chart_144861a507c5416094a40aca9e5e7636 = new chartXkcd.Bar(svg_144861a507c5416094a40aca9e5e7636, {\"title\": \"\\u67f1\\u5f62\\u56fe\\u793a\\u4f8b\\u56fe\\u7247\", \"data\": {\"datasets\": [{\"label\": \"series-A\", \"data\": [149, 58, 90, 121, 67, 89, 70]}], \"labels\": [\"\\u53ef\\u4e50\", \"\\u96ea\\u78a7\", \"\\u6a59\\u6c41\", \"\\u7eff\\u8336\", \"\\u5976\\u8336\", \"\\u767e\\u5a01\", \"\\u9752\\u5c9b\"]}, \"xLabel\": \"x\\u8f74\", \"yLabel\": \"y\\u8f74\", \"options\": {\"yTickCount\": 3}});\n",
       "        })\n",
       "    </script>\n"
      ],
      "text/plain": [
       "<cutecharts.render.engine.HTML at 0x16d814d1988>"
      ]
     },
     "execution_count": 11,
     "metadata": {},
     "output_type": "execute_result"
    }
   ],
   "source": [
    "# 柱形图\n",
    "\n",
    "'''\n",
    "labels: Iterable                                X 坐标轴标签数据\n",
    "x_label: str = \"\"                               X 坐标轴名称\n",
    "y_label: str = \"\"                               Y 坐标轴名称\n",
    "y_tick_count: int = 3                           Y 轴刻度分割段数\n",
    "colors: Optional[Iterable] = None               label 颜色数组\n",
    "font_family: Optional[str] = None               CSS font-family\n",
    "'''\n",
    "\n",
    "def bar_base():\n",
    "    chart=Bar('柱形图示例图片')\n",
    "    # 设置数据\n",
    "    chart.set_options(labels=Faker.choose(),x_label='x轴',y_label='y轴')\n",
    "    # 添加注释\n",
    "    chart.add_series('series-A',Faker.values())\n",
    "    return chart\n",
    "\n",
    "bar_base().render_notebook()"
   ]
  },
  {
   "cell_type": "code",
   "execution_count": 13,
   "metadata": {},
   "outputs": [
    {
     "data": {
      "text/html": [
       "\n",
       "<script>\n",
       "    require.config({\n",
       "        paths: {\n",
       "            'chartXkcd':'https://cdn.jsdelivr.net/npm/chart.xkcd@1.1/dist/chart.xkcd.min'\n",
       "        }\n",
       "    });\n",
       "</script>\n",
       "\n",
       "<div id=\"62ba8df844de40208cd814da520eef03\" class=\"chart-container\" style=\"width: 800px\">\n",
       "        <svg id=\"chart_62ba8df844de40208cd814da520eef03\"></svg>\n",
       "    </div>\n",
       "    <script>\n",
       "        require(['chartXkcd'], function(chartXkcd) {\n",
       "            const svg_62ba8df844de40208cd814da520eef03 = document.querySelector('#chart_62ba8df844de40208cd814da520eef03')\n",
       "            const chart_62ba8df844de40208cd814da520eef03 = new chartXkcd.Bar(svg_62ba8df844de40208cd814da520eef03, {\"title\": \"\\u67f1\\u5f62\\u56fe_\\u8c03\\u6574\\u989c\\u8272\", \"data\": {\"datasets\": [{\"label\": \"serise-A\", \"data\": [96, 50, 133, 102, 97, 65, 148]}], \"labels\": [\"\\u886c\\u886b\", \"\\u6bdb\\u8863\", \"\\u9886\\u5e26\", \"\\u88e4\\u5b50\", \"\\u98ce\\u8863\", \"\\u9ad8\\u8ddf\\u978b\", \"\\u889c\\u5b50\"]}, \"options\": {\"yTickCount\": 10, \"dataColors\": [\"#c23531\", \"#2f4554\", \"#61a0a8\", \"#d48265\", \"#749f83\", \"#ca8622\", \"#bda29a\"]}});\n",
       "        })\n",
       "    </script>\n"
      ],
      "text/plain": [
       "<cutecharts.render.engine.HTML at 0x16d813e67c8>"
      ]
     },
     "execution_count": 13,
     "metadata": {},
     "output_type": "execute_result"
    }
   ],
   "source": [
    "# 调整颜色示例图,选择色系\n",
    "def bar_tickcount_colors():\n",
    "    chart=Bar('柱形图_调整颜色')\n",
    "    chart.set_options(labels=Faker.choose(),y_tick_count=10,colors=Faker.colors)\n",
    "    chart.add_series('serise-A',Faker.values())\n",
    "    return chart\n",
    "\n",
    "bar_tickcount_colors().render_notebook()"
   ]
  },
  {
   "cell_type": "code",
   "execution_count": 14,
   "metadata": {},
   "outputs": [
    {
     "data": {
      "text/html": [
       "\n",
       "<script>\n",
       "    require.config({\n",
       "        paths: {\n",
       "            'chartXkcd':'https://cdn.jsdelivr.net/npm/chart.xkcd@1.1/dist/chart.xkcd.min'\n",
       "        }\n",
       "    });\n",
       "</script>\n",
       "\n",
       "<div id=\"f38519e529fc4ea5b2934509ba51cd2f\" class=\"chart-container\" style=\"width: 800px\">\n",
       "        <svg id=\"chart_f38519e529fc4ea5b2934509ba51cd2f\"></svg>\n",
       "    </div>\n",
       "    <script>\n",
       "        require(['chartXkcd'], function(chartXkcd) {\n",
       "            const svg_f38519e529fc4ea5b2934509ba51cd2f = document.querySelector('#chart_f38519e529fc4ea5b2934509ba51cd2f')\n",
       "            const chart_f38519e529fc4ea5b2934509ba51cd2f = new chartXkcd.Line(svg_f38519e529fc4ea5b2934509ba51cd2f, {\"title\": \"\\u57fa\\u7840\\u56fe\\u5f62\\u5c55\\u793a\", \"data\": {\"datasets\": [{\"label\": \"series-A\", \"data\": [102, 97, 107, 138, 57, 141, 123]}, {\"label\": \"series-B\", \"data\": [22, 37, 111, 54, 66, 116, 104]}], \"labels\": [\"\\u5468\\u4e00\", \"\\u5468\\u4e8c\", \"\\u5468\\u4e09\", \"\\u5468\\u56db\", \"\\u5468\\u4e94\", \"\\u5468\\u516d\", \"\\u5468\\u65e5\"]}, \"xLabel\": \"x\\u8f74\", \"yLabel\": \"y\\u8f74\", \"options\": {\"yTickCount\": 3, \"legendPosition\": 1}});\n",
       "        })\n",
       "    </script>\n"
      ],
      "text/plain": [
       "<cutecharts.render.engine.HTML at 0x16d814fb2c8>"
      ]
     },
     "execution_count": 14,
     "metadata": {},
     "output_type": "execute_result"
    }
   ],
   "source": [
    "# 折线图展示\n",
    "# 参数介绍\n",
    "'''\n",
    "labels: Iterable                                X 坐标轴标签数据\n",
    "x_label: str = \"\"                               X 坐标轴名称\n",
    "y_label: str = \"\"                               Y 坐标轴名称\n",
    "y_tick_count: int = 3                           Y 轴刻度分割段数\n",
    "legend_pos: str = \"upLeft\"                      图例位置，有 \"upLeft\", \"upRight\", \"downLeft\", \"downRight\" 可选\n",
    "colors: Optional[Iterable] = None               label 颜色数组\n",
    "font_family: Optional[str] = None               CSS font-family\n",
    "'''\n",
    "# 导入模块\n",
    "from cutecharts.charts import Line\n",
    "from cutecharts.components import page\n",
    "from cutecharts.faker import Faker\n",
    "\n",
    "def line_base():\n",
    "    chart=Line('基础图形展示')\n",
    "    chart.set_options(labels=Faker.choose(),x_label='x轴',y_label='y轴')\n",
    "    # 设置图例\n",
    "    # chart.set_options(labels=Faker.choose(),legend_pos='right')\n",
    "    # 设置颜色\n",
    "    # chart.set_options(labels=Faker.choose(),colors=Faker.colors,y_tick_count=8)\n",
    "    chart.add_series('series-A',Faker.values())\n",
    "    chart.add_series('series-B',Faker.values())\n",
    "    return chart\n",
    "\n",
    "line_base().render_notebook()    "
   ]
  },
  {
   "cell_type": "code",
   "execution_count": 18,
   "metadata": {},
   "outputs": [
    {
     "data": {
      "text/html": [
       "\n",
       "<script>\n",
       "    require.config({\n",
       "        paths: {\n",
       "            'chartXkcd':'https://cdn.jsdelivr.net/npm/chart.xkcd@1.1/dist/chart.xkcd.min'\n",
       "        }\n",
       "    });\n",
       "</script>\n",
       "\n",
       "<div id=\"fb7ad0c92b7e45829efba6bd11e10aa5\" class=\"chart-container\" style=\"width: 800px\">\n",
       "        <svg id=\"chart_fb7ad0c92b7e45829efba6bd11e10aa5\"></svg>\n",
       "    </div>\n",
       "    <script>\n",
       "        require(['chartXkcd'], function(chartXkcd) {\n",
       "            const svg_fb7ad0c92b7e45829efba6bd11e10aa5 = document.querySelector('#chart_fb7ad0c92b7e45829efba6bd11e10aa5')\n",
       "            const chart_fb7ad0c92b7e45829efba6bd11e10aa5 = new chartXkcd.Pie(svg_fb7ad0c92b7e45829efba6bd11e10aa5, {\"title\": \"\\u57fa\\u7840\\u56fe\\u5f62_\\u997c\\u56fe\", \"data\": {\"datasets\": [{\"data\": [52, 38, 94, 42, 99, 81, 107]}], \"labels\": [\"\\u54c8\\u58eb\\u5947\", \"\\u8428\\u6469\\u8036\", \"\\u6cf0\\u8fea\", \"\\u91d1\\u6bdb\", \"\\u7267\\u7f8a\\u72ac\", \"\\u5409\\u5a03\\u5a03\", \"\\u67ef\\u57fa\"]}, \"options\": {\"innerRadius\": 0.5, \"legendPosition\": 1}});\n",
       "        })\n",
       "    </script>\n"
      ],
      "text/plain": [
       "<cutecharts.render.engine.HTML at 0x16d8194e248>"
      ]
     },
     "execution_count": 18,
     "metadata": {},
     "output_type": "execute_result"
    }
   ],
   "source": [
    "# 饼图\n",
    "'''\n",
    "labels: Iterable                                数据标签列表\n",
    "inner_radius: float = 0.5                       Pie 图半径\n",
    "legend_pos: str = \"upLeft\"                      图例位置，有 \"upLeft\", \"upRight\", \"downLeft\", \"downRight\" 可选\n",
    "colors: Optional[Iterable] = None               label 颜色数组\n",
    "font_family: Optional[str] = None               CSS font-family\n",
    "'''\n",
    "\n",
    "from cutecharts.charts import Pie\n",
    "from cutecharts.components import Page\n",
    "from cutecharts.faker import Faker\n",
    "\n",
    "\n",
    "def pie_base():\n",
    "    chart=Pie('基础图形_饼图')\n",
    "    chart.set_options(labels=Faker.choose())\n",
    "    chart.add_series(Faker.values())\n",
    "    return chart\n",
    "\n",
    "pie_base().render_notebook()"
   ]
  },
  {
   "cell_type": "code",
   "execution_count": 20,
   "metadata": {},
   "outputs": [
    {
     "data": {
      "text/html": [
       "\n",
       "<script>\n",
       "    require.config({\n",
       "        paths: {\n",
       "            'chartXkcd':'https://cdn.jsdelivr.net/npm/chart.xkcd@1.1/dist/chart.xkcd.min'\n",
       "        }\n",
       "    });\n",
       "</script>\n",
       "\n",
       "<div id=\"27b49de665ad4f448b99599aece64aa9\" class=\"chart-container\" style=\"width: 800px\">\n",
       "        <svg id=\"chart_27b49de665ad4f448b99599aece64aa9\"></svg>\n",
       "    </div>\n",
       "    <script>\n",
       "        require(['chartXkcd'], function(chartXkcd) {\n",
       "            const svg_27b49de665ad4f448b99599aece64aa9 = document.querySelector('#chart_27b49de665ad4f448b99599aece64aa9')\n",
       "            const chart_27b49de665ad4f448b99599aece64aa9 = new chartXkcd.Pie(svg_27b49de665ad4f448b99599aece64aa9, {\"title\": \"Pie-Radius\", \"data\": {\"datasets\": [{\"data\": [44, 78, 35, 134, 80, 105, 80]}], \"labels\": [\"\\u54c8\\u58eb\\u5947\", \"\\u8428\\u6469\\u8036\", \"\\u6cf0\\u8fea\", \"\\u91d1\\u6bdb\", \"\\u7267\\u7f8a\\u72ac\", \"\\u5409\\u5a03\\u5a03\", \"\\u67ef\\u57fa\"]}, \"options\": {\"innerRadius\": 0, \"legendPosition\": 1}});\n",
       "        })\n",
       "    </script>\n"
      ],
      "text/plain": [
       "<cutecharts.render.engine.HTML at 0x16dfe8b3a08>"
      ]
     },
     "execution_count": 20,
     "metadata": {},
     "output_type": "execute_result"
    }
   ],
   "source": [
    "# 另一种图形展示\n",
    "def pie_radius():\n",
    "    chart = Pie(\"Pie-Radius\")\n",
    "    chart.set_options(\n",
    "        labels=Faker.choose(),\n",
    "        inner_radius=0,\n",
    "    )\n",
    "    chart.add_series(Faker.values())\n",
    "    return chart\n",
    "\n",
    "pie_radius().render_notebook()"
   ]
  },
  {
   "cell_type": "code",
   "execution_count": 22,
   "metadata": {},
   "outputs": [
    {
     "data": {
      "text/html": [
       "\n",
       "<script>\n",
       "    require.config({\n",
       "        paths: {\n",
       "            'chartXkcd':'https://cdn.jsdelivr.net/npm/chart.xkcd@1.1/dist/chart.xkcd.min'\n",
       "        }\n",
       "    });\n",
       "</script>\n",
       "\n",
       "<div id=\"209a1407b50846f58e9b49ac0ce4f1a2\" class=\"chart-container\" style=\"width: 800px\">\n",
       "        <svg id=\"chart_209a1407b50846f58e9b49ac0ce4f1a2\"></svg>\n",
       "    </div>\n",
       "    <script>\n",
       "        require(['chartXkcd'], function(chartXkcd) {\n",
       "            const svg_209a1407b50846f58e9b49ac0ce4f1a2 = document.querySelector('#chart_209a1407b50846f58e9b49ac0ce4f1a2')\n",
       "            const chart_209a1407b50846f58e9b49ac0ce4f1a2 = new chartXkcd.Radar(svg_209a1407b50846f58e9b49ac0ce4f1a2, {\"title\": \"\\u57fa\\u7840\\u56fe\\u5f62_\\u96f7\\u8fbe\\u56fe\", \"data\": {\"datasets\": [{\"label\": \"series-A\", \"data\": [22, 88, 71, 50, 54, 60, 108]}, {\"label\": \"series-B\", \"data\": [129, 25, 131, 87, 130, 38, 83]}], \"labels\": [\"\\u5c0f\\u7c73\", \"\\u4e09\\u661f\", \"\\u534e\\u4e3a\", \"\\u82f9\\u679c\", \"\\u9b45\\u65cf\", \"VIVO\", \"OPPO\"]}, \"options\": {\"showLegend\": true, \"showLabel\": true, \"tickCount\": 3, \"legendPosition\": 1}});\n",
       "        })\n",
       "    </script>\n"
      ],
      "text/plain": [
       "<cutecharts.render.engine.HTML at 0x16d8158bdc8>"
      ]
     },
     "execution_count": 22,
     "metadata": {},
     "output_type": "execute_result"
    }
   ],
   "source": [
    "# 雷达图\n",
    "\n",
    "'''\n",
    "labels: Iterable                                数据标签列表\n",
    "is_show_label: bool = True                      是否显示标签\n",
    "is_show_legend: bool = True                     是否显示图例\n",
    "tick_count: int = 3                             坐标系分割刻度\n",
    "legend_pos: str = \"upLeft\"                      图例位置，有 \"upLeft\", \"upRight\", \"downLeft\", \"downRight\" 可选\n",
    "colors: Optional[Iterable] = None               label 颜色数组\n",
    "font_family: Optional[str] = None               CSS font-family\n",
    "'''\n",
    "\n",
    "from cutecharts.charts import Radar\n",
    "from cutecharts.components import Page\n",
    "from cutecharts.faker import Faker\n",
    "\n",
    "\n",
    "def radar_base():\n",
    "    chart=Radar('基础图形_雷达图')\n",
    "    chart.set_options(labels=Faker.choose())\n",
    "    chart.add_series('series-A',Faker.values())\n",
    "    chart.add_series('series-B',Faker.values())\n",
    "    return chart\n",
    "\n",
    "radar_base().render_notebook()\n",
    "    "
   ]
  },
  {
   "cell_type": "code",
   "execution_count": null,
   "metadata": {},
   "outputs": [],
   "source": [
    "# 散点图绘制\n",
    "'''\n",
    "x_label: str = \"\"                               X 坐标轴名称\n",
    "y_label: str = \"\"                               Y 坐标轴名称\n",
    "x_tick_count: int = 3                           X 轴刻度分割段数\n",
    "y_tick_count: int = 3                           Y 轴刻度分割段数\n",
    "is_show_line: bool = False                      是否将散点连成线\n",
    "dot_size: int = 1                               散点大小\n",
    "time_format: Optional[str] = None               日期格式\n",
    "legend_pos: str = \"upLeft\"                      图例位置，有 \"upLeft\", \"upRight\", \"downLeft\", \"downRight\" 可选\n",
    "colors: Optional[Iterable] = None               label 颜色数组\n",
    "font_family: Optional[str] = None               CSS font-family\n",
    "'''\n",
    "\n",
    "from cutecharts.charts import Scatter\n",
    "\n",
    "def scatter_base():\n",
    "    chart=Scatter('基础图形_散点图')\n",
    "    chart.set_options(x_label='x轴',y_label='y轴')\n",
    "    chart.add_series('series-A',[(z[0],z[1] for z in zip(Faker.values(),Faker.values()))])\n",
    "    chart.add_series('series-B',[(z[0],z[1] for z in zip(Faker.values(),Faker.values()))])\n",
    "    \n",
    "    \n",
    "    "
   ]
  }
 ],
 "metadata": {
  "kernelspec": {
   "display_name": "Python 3",
   "language": "python",
   "name": "python3"
  },
  "language_info": {
   "codemirror_mode": {
    "name": "ipython",
    "version": 3
   },
   "file_extension": ".py",
   "mimetype": "text/x-python",
   "name": "python",
   "nbconvert_exporter": "python",
   "pygments_lexer": "ipython3",
   "version": "3.7.4"
  }
 },
 "nbformat": 4,
 "nbformat_minor": 2
}
